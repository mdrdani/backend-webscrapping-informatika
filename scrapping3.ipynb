{
  "nbformat": 4,
  "nbformat_minor": 0,
  "metadata": {
    "colab": {
      "provenance": [],
      "authorship_tag": "ABX9TyO+gB73GzZwjlVoJqusNce3"
    },
    "kernelspec": {
      "name": "python3",
      "display_name": "Python 3"
    },
    "language_info": {
      "name": "python"
    }
  },
  "cells": [
    {
      "cell_type": "code",
      "execution_count": 1,
      "metadata": {
        "colab": {
          "base_uri": "https://localhost:8080/"
        },
        "id": "K22matXdcxWI",
        "outputId": "78548b44-c2e2-4822-b975-03af4a29dc4f"
      },
      "outputs": [
        {
          "output_type": "stream",
          "name": "stdout",
          "text": [
            "Perusahaan: ['PT. SINDOTECH TRITAMA', 'PT REDSUN TRADING', 'cv gloria', 'cv gloria', 'Mitra Sekawan Indonesia', 'cv gloria', 'PT AW Mandiri', 'Royal Stone Jakarta', 'Unggul Sejati', 'CV. Putriratu', 'MR Printing and Packaging', 'PT. SETIONO CAHAYA PERKASA', 'MR Printing and Packaging', 'PT. Seven Natural Indonesia', 'CV. ANUGERAH TOTAL JAYA', 'CV. ANUGERAH TOTAL JAYA', 'Sakera nguling', 'Penyets.an Frozen', 'PT KINARYA ALIHDAYA MANDIRI Regional Jawa Barat', 'PT KINARYA ALIHDAYA MANDIRI Regional Jawa Barat', 'PT KINARYA ALIHDAYA MANDIRI Regional Jawa Barat']\n"
          ]
        }
      ],
      "source": [
        "import requests\n",
        "from bs4 import BeautifulSoup\n",
        "\n",
        "# Ambil halaman dari URL\n",
        "url = \"https://www.loker.id/cari-lowongan-kerja\"\n",
        "res = requests.get(url)\n",
        "soup = BeautifulSoup(res.text, 'html.parser')\n",
        "\n",
        "# Siapkan array kosong\n",
        "perusahaan = []\n",
        "\n",
        "# Ambil semua artikel lowongan\n",
        "articles = soup.find_all('article', class_='card')\n",
        "\n",
        "for artikel in articles:\n",
        "    # Cari nama perusahaan\n",
        "    nama_perusahaan = artikel.find('span', class_='text-sm text-secondary-500')\n",
        "    perusahaan.append(nama_perusahaan.get_text(strip=True))\n",
        "\n",
        "# Cetak hasil\n",
        "print(\"Perusahaan:\", perusahaan)"
      ]
    }
  ]
}