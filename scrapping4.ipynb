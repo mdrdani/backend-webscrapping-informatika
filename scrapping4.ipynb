{
  "nbformat": 4,
  "nbformat_minor": 0,
  "metadata": {
    "colab": {
      "provenance": [],
      "authorship_tag": "ABX9TyOAC+TCrmj4kFCFgebRbPqZ"
    },
    "kernelspec": {
      "name": "python3",
      "display_name": "Python 3"
    },
    "language_info": {
      "name": "python"
    }
  },
  "cells": [
    {
      "cell_type": "code",
      "execution_count": 1,
      "metadata": {
        "colab": {
          "base_uri": "https://localhost:8080/"
        },
        "id": "8f-LuevedLsj",
        "outputId": "8d639059-3f03-47ef-a014-d7418c554f08"
      },
      "outputs": [
        {
          "output_type": "stream",
          "name": "stdout",
          "text": [
            "Gaji: ['Rp 3 – 4 Juta', 'Rp 2 – 3 Juta', 'Negosiasi', 'Negosiasi', 'Negosiasi', 'Rp 3 – 4 Juta', 'Negosiasi', 'Rp 4 – 5 Juta', 'Rp 2 – 3 Juta', 'Rp 3 – 4 Juta', 'Rp 2 – 3 Juta', 'Negosiasi', 'Rp 3 – 4 Juta', 'Negosiasi', 'Rp 2 – 3 Juta', 'Rp 2 – 3 Juta', 'Negosiasi', 'Negosiasi', 'Negosiasi', 'Negosiasi', 'Negosiasi']\n"
          ]
        }
      ],
      "source": [
        "import requests\n",
        "from bs4 import BeautifulSoup\n",
        "import pandas as pd\n",
        "\n",
        "# Ambil halaman dari URL\n",
        "url = \"https://www.loker.id/cari-lowongan-kerja\"\n",
        "res = requests.get(url)\n",
        "soup = BeautifulSoup(res.text, 'html.parser')\n",
        "\n",
        "# Siapkan array kosong\n",
        "gaji = []\n",
        "\n",
        "# Ambil semua artikel lowongan\n",
        "articles = soup.find_all('article', class_='card')\n",
        "\n",
        "for artikel in articles:\n",
        "\n",
        "    divs = artikel.find_all('div', class_='flex gap-2 lg:group-hover:text-secondary-600 hover-active')\n",
        "    for div in divs:\n",
        "      span = div.find('span', translate='no')\n",
        "      if span:\n",
        "        gaji.append(span.get_text(strip=True))\n",
        "        break\n",
        "\n",
        "# Cetak hasil\n",
        "print(\"Gaji:\", gaji)"
      ]
    }
  ]
}