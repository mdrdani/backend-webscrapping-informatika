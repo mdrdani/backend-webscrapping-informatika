{
  "nbformat": 4,
  "nbformat_minor": 0,
  "metadata": {
    "colab": {
      "provenance": [],
      "authorship_tag": "ABX9TyNzAQHP4KSK5gcovkiXrCvY"
    },
    "kernelspec": {
      "name": "python3",
      "display_name": "Python 3"
    },
    "language_info": {
      "name": "python"
    }
  },
  "cells": [
    {
      "cell_type": "code",
      "execution_count": 1,
      "metadata": {
        "colab": {
          "base_uri": "https://localhost:8080/"
        },
        "id": "0a8tMvIXdb4M",
        "outputId": "a285b9b3-1134-450c-fef4-2fcbd556a643"
      },
      "outputs": [
        {
          "output_type": "stream",
          "name": "stdout",
          "text": [
            "Title: ['Marketing', 'Kurir', 'Staff Gudang', 'Staff Packing', 'Sales Penjualan Direct (Door to Door)', 'Office Boy', 'Sales Representative', 'Project Sales', 'Driver', 'Sales Promotion Girl (SPG)', 'Admin Marketing', 'Helper Gudang', 'Design Grafis', 'Content Creator', 'Staff Gudang', 'Staff Marketing E Commerce', 'Kasir', 'Staff Operasional', 'Visitor', 'Visitor', 'Visitor']\n",
            "Perusahaan: ['PT. SINDOTECH TRITAMA', 'PT REDSUN TRADING', 'cv gloria', 'cv gloria', 'Mitra Sekawan Indonesia', 'cv gloria', 'PT AW Mandiri', 'Royal Stone Jakarta', 'Unggul Sejati', 'CV. Putriratu', 'MR Printing and Packaging', 'PT. SETIONO CAHAYA PERKASA', 'MR Printing and Packaging', 'PT. Seven Natural Indonesia', 'CV. ANUGERAH TOTAL JAYA', 'CV. ANUGERAH TOTAL JAYA', 'Sakera nguling', 'Penyets.an Frozen', 'PT KINARYA ALIHDAYA MANDIRI Regional Jawa Barat', 'PT KINARYA ALIHDAYA MANDIRI Regional Jawa Barat', 'PT KINARYA ALIHDAYA MANDIRI Regional Jawa Barat']\n",
            "Gaji: ['Rp 3 – 4 Juta', 'Rp 2 – 3 Juta', 'Negosiasi', 'Negosiasi', 'Negosiasi', 'Rp 3 – 4 Juta', 'Negosiasi', 'Rp 4 – 5 Juta', 'Rp 2 – 3 Juta', 'Rp 3 – 4 Juta', 'Rp 2 – 3 Juta', 'Negosiasi', 'Rp 3 – 4 Juta', 'Negosiasi', 'Rp 2 – 3 Juta', 'Rp 2 – 3 Juta', 'Negosiasi', 'Negosiasi', 'Negosiasi', 'Negosiasi', 'Negosiasi']\n"
          ]
        }
      ],
      "source": [
        "import requests\n",
        "from bs4 import BeautifulSoup\n",
        "import pandas as pd\n",
        "\n",
        "# Ambil halaman dari URL\n",
        "url = \"https://www.loker.id/cari-lowongan-kerja\"\n",
        "res = requests.get(url)\n",
        "soup = BeautifulSoup(res.text, 'html.parser')\n",
        "\n",
        "# Siapkan array kosong\n",
        "title = []\n",
        "perusahaan = []\n",
        "gaji = []\n",
        "\n",
        "# Ambil semua artikel lowongan\n",
        "articles = soup.find_all('article', class_='card')\n",
        "\n",
        "for artikel in articles:\n",
        "    # Cari nama perusahaan\n",
        "    nama_perusahaan = artikel.find('span', class_='text-sm text-secondary-500')\n",
        "    # Cari judul lowongan\n",
        "    judul = artikel.find('h3')\n",
        "\n",
        "    if nama_perusahaan and judul:\n",
        "        perusahaan.append(nama_perusahaan.get_text(strip=True))\n",
        "        title.append(judul.get_text(strip=True))\n",
        "\n",
        "    divs = artikel.find_all('div', class_='flex gap-2 lg:group-hover:text-secondary-600 hover-active')\n",
        "    for div in divs:\n",
        "      span = div.find('span', translate='no')\n",
        "      if span:\n",
        "        gaji.append(span.get_text(strip=True))\n",
        "        break\n",
        "\n",
        "# Cetak hasil\n",
        "print(\"Title:\", title)\n",
        "print(\"Perusahaan:\", perusahaan)\n",
        "print(\"Gaji:\", gaji)"
      ]
    }
  ]
}