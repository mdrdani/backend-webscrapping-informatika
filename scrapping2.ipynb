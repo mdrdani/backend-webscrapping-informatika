{
  "nbformat": 4,
  "nbformat_minor": 0,
  "metadata": {
    "colab": {
      "provenance": [],
      "authorship_tag": "ABX9TyO44AflERgRRl4FTkF6GNcj"
    },
    "kernelspec": {
      "name": "python3",
      "display_name": "Python 3"
    },
    "language_info": {
      "name": "python"
    }
  },
  "cells": [
    {
      "cell_type": "code",
      "execution_count": 1,
      "metadata": {
        "colab": {
          "base_uri": "https://localhost:8080/"
        },
        "id": "s_v0qUxJcYxy",
        "outputId": "ee646a6d-688a-4199-efa5-f0c4eb46b888"
      },
      "outputs": [
        {
          "output_type": "stream",
          "name": "stdout",
          "text": [
            "Title: ['Marketing', 'Kurir', 'Staff Gudang', 'Staff Packing', 'Sales Penjualan Direct (Door to Door)', 'Office Boy', 'Sales Representative', 'Project Sales', 'Driver', 'Sales Promotion Girl (SPG)', 'Admin Marketing', 'Helper Gudang', 'Design Grafis', 'Content Creator', 'Staff Gudang', 'Staff Marketing E Commerce', 'Kasir', 'Staff Operasional', 'Visitor', 'Visitor', 'Visitor']\n"
          ]
        }
      ],
      "source": [
        "import requests\n",
        "from bs4 import BeautifulSoup\n",
        "\n",
        "# Ambil halaman dari URL\n",
        "url = \"https://www.loker.id/cari-lowongan-kerja\"\n",
        "res = requests.get(url)\n",
        "soup = BeautifulSoup(res.text, 'html.parser')\n",
        "\n",
        "# Siapkan array kosong\n",
        "title = []\n",
        "\n",
        "# Ambil semua artikel lowongan\n",
        "articles = soup.find_all('article', class_='card')\n",
        "\n",
        "for artikel in articles:\n",
        "    # Cari judul lowongan\n",
        "    judul = artikel.find('h3')\n",
        "    title.append(judul.get_text(strip=True))\n",
        "\n",
        "# Cetak hasil\n",
        "print(\"Title:\", title)"
      ]
    }
  ]
}