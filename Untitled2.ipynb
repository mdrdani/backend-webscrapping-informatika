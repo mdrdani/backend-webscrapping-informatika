{
  "nbformat": 4,
  "nbformat_minor": 0,
  "metadata": {
    "colab": {
      "provenance": [],
      "authorship_tag": "ABX9TyPhlG1q3PDzrk8Gulq+I4mj",
      "include_colab_link": true
    },
    "kernelspec": {
      "name": "python3",
      "display_name": "Python 3"
    },
    "language_info": {
      "name": "python"
    }
  },
  "cells": [
    {
      "cell_type": "markdown",
      "metadata": {
        "id": "view-in-github",
        "colab_type": "text"
      },
      "source": [
        "<a href=\"https://colab.research.google.com/github/mdrdani/sdb-webscraping-informatika/blob/main/Untitled2.ipynb\" target=\"_parent\"><img src=\"https://colab.research.google.com/assets/colab-badge.svg\" alt=\"Open In Colab\"/></a>"
      ]
    },
    {
      "cell_type": "code",
      "source": [
        "pip install cloudscraper"
      ],
      "metadata": {
        "id": "Qz9RokSEwqac"
      },
      "execution_count": null,
      "outputs": []
    },
    {
      "cell_type": "code",
      "source": [
        "import cloudscraper\n",
        "from bs4 import BeautifulSoup\n",
        "\n",
        "scraper = cloudscraper.create_scraper()\n",
        "response = scraper.get(\"https://www.loker.id/cari-lowongan-kerja\")\n",
        "soup = BeautifulSoup(response.text, \"html.parser\")\n",
        "\n",
        "print(soup.prettify())"
      ],
      "metadata": {
        "id": "ygQgRQdNwvk4"
      },
      "execution_count": null,
      "outputs": []
    },
    {
      "cell_type": "code",
      "source": [
        "import requests\n",
        "import cloudscraper\n",
        "from bs4 import BeautifulSoup\n",
        "\n",
        "scraper = cloudscraper.create_scraper()\n",
        "link = scraper.get(\"https://www.loker.id/cari-lowongan-kerja\")\n",
        "hasil = BeautifulSoup(link.text, \"html.parser\")\n",
        "\n",
        "judul = []\n",
        "\n",
        "articles = hasil.find_all('article', class_='card')\n",
        "\n",
        "for artikel in articles:\n",
        "  head = artikel.find('h3')\n",
        "  judul.append(head.get_text(strip=True))\n",
        "\n",
        "print(\"Judul Kerjaan:\", judul)"
      ],
      "metadata": {
        "id": "oattLmugSZLC"
      },
      "execution_count": null,
      "outputs": []
    },
    {
      "cell_type": "code",
      "source": [
        "import requests\n",
        "import cloudscraper\n",
        "from bs4 import BeautifulSoup\n",
        "\n",
        "scraper = cloudscraper.create_scraper()\n",
        "link = scraper.get(\"https://www.loker.id/cari-lowongan-kerja\")\n",
        "hasil = BeautifulSoup(link.text, \"html.parser\")\n",
        "\n",
        "perusahaan = []\n",
        "\n",
        "articles = hasil.find_all('article', class_='card')\n",
        "\n",
        "for artikel in articles:\n",
        "  nama_perusahaan = artikel.find('span', class_='text-sm text-secondary-500')\n",
        "  perusahaan.append(nama_perusahaan.get_text(strip=True))\n",
        "\n",
        "print(\"Nama Perusahaan:\", perusahaan)"
      ],
      "metadata": {
        "id": "p7zAJR77X80-"
      },
      "execution_count": null,
      "outputs": []
    },
    {
      "cell_type": "code",
      "source": [
        "import requests\n",
        "import cloudscraper\n",
        "from bs4 import BeautifulSoup\n",
        "\n",
        "scraper = cloudscraper.create_scraper()\n",
        "link = scraper.get(\"https://www.loker.id/cari-lowongan-kerja\")\n",
        "hasil = BeautifulSoup(link.text, \"html.parser\")\n",
        "\n",
        "gaji = []\n",
        "\n",
        "articles = hasil.find_all('article', class_='card')\n",
        "\n",
        "for artikel in articles:\n",
        "\n",
        "    divs = artikel.find_all('div', class_='flex gap-2 lg:group-hover:text-secondary-600 hover-active')\n",
        "    for div in divs:\n",
        "      span = div.find('span', translate='no')\n",
        "      if span:\n",
        "        gaji.append(span.get_text(strip=True))\n",
        "        break\n",
        "\n",
        "# Cetak hasil\n",
        "print(\"Gaji:\", gaji)"
      ],
      "metadata": {
        "id": "6v6tzCevZgCY"
      },
      "execution_count": null,
      "outputs": []
    },
    {
      "cell_type": "code",
      "source": [
        "import requests\n",
        "import cloudscraper\n",
        "from bs4 import BeautifulSoup\n",
        "\n",
        "scraper = cloudscraper.create_scraper()\n",
        "link = scraper.get(\"https://www.loker.id/cari-lowongan-kerja\")\n",
        "hasil = BeautifulSoup(link.text, \"html.parser\")\n",
        "\n",
        "# Siapkan array kosong\n",
        "title = []\n",
        "perusahaan = []\n",
        "gaji = []\n",
        "\n",
        "# Ambil semua artikel lowongan\n",
        "articles = hasil.find_all('article', class_='card')\n",
        "\n",
        "for artikel in articles:\n",
        "    # Cari nama perusahaan\n",
        "    nama_perusahaan = artikel.find('span', class_='text-sm text-secondary-500')\n",
        "    # Cari judul lowongan\n",
        "    judul = artikel.find('h3')\n",
        "\n",
        "    if nama_perusahaan and judul:\n",
        "        perusahaan.append(nama_perusahaan.get_text(strip=True))\n",
        "        title.append(judul.get_text(strip=True))\n",
        "\n",
        "    divs = artikel.find_all('div', class_='flex gap-2 lg:group-hover:text-secondary-600 hover-active')\n",
        "    for div in divs:\n",
        "      span = div.find('span', translate='no')\n",
        "      if span:\n",
        "        gaji.append(span.get_text(strip=True))\n",
        "        break\n",
        "\n",
        "# Cetak hasil\n",
        "print(\"Title:\", title)\n",
        "print(\"Perusahaan:\", perusahaan)\n",
        "print(\"Gaji:\", gaji)\n",
        ""
      ],
      "metadata": {
        "id": "1LZuEE9vlptt"
      },
      "execution_count": null,
      "outputs": []
    },
    {
      "cell_type": "code",
      "source": [
        "import requests\n",
        "import cloudscraper\n",
        "from bs4 import BeautifulSoup\n",
        "import pandas as pd\n",
        "\n",
        "scraper = cloudscraper.create_scraper()\n",
        "link = scraper.get(\"https://www.loker.id/cari-lowongan-kerja\")\n",
        "hasil = BeautifulSoup(link.text, \"html.parser\")\n",
        "\n",
        "# Siapkan array kosong\n",
        "title = []\n",
        "perusahaan = []\n",
        "gaji = []\n",
        "\n",
        "# Ambil semua artikel lowongan\n",
        "articles = hasil.find_all('article', class_='card')\n",
        "\n",
        "for artikel in articles:\n",
        "    # Cari nama perusahaan\n",
        "    nama_perusahaan = artikel.find('span', class_='text-sm text-secondary-500')\n",
        "    # Cari judul lowongan\n",
        "    judul = artikel.find('h3')\n",
        "\n",
        "    if nama_perusahaan and judul:\n",
        "        perusahaan.append(nama_perusahaan.get_text(strip=True))\n",
        "        title.append(judul.get_text(strip=True))\n",
        "\n",
        "    divs = artikel.find_all('div', class_='flex gap-2 lg:group-hover:text-secondary-600 hover-active')\n",
        "    for div in divs:\n",
        "      span = div.find('span', translate='no')\n",
        "      if span:\n",
        "        gaji.append(span.get_text(strip=True))\n",
        "        break\n",
        "\n",
        "\n",
        "#cetak table\n",
        "df = pd.DataFrame({\n",
        "    \"Title\": title,\n",
        "    \"Perusahaan\": perusahaan,\n",
        "    \"Gaji\": gaji\n",
        "})\n",
        "df"
      ],
      "metadata": {
        "id": "QVFVUAtfl5AV"
      },
      "execution_count": null,
      "outputs": []
    }
  ]
}