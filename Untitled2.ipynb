{
  "nbformat": 4,
  "nbformat_minor": 0,
  "metadata": {
    "colab": {
      "provenance": [],
      "authorship_tag": "ABX9TyN0YXUjUKYfSZvSI48lVS3t",
      "include_colab_link": true
    },
    "kernelspec": {
      "name": "python3",
      "display_name": "Python 3"
    },
    "language_info": {
      "name": "python"
    }
  },
  "cells": [
    {
      "cell_type": "markdown",
      "metadata": {
        "id": "view-in-github",
        "colab_type": "text"
      },
      "source": [
        "<a href=\"https://colab.research.google.com/github/mdrdani/sdb-webscraping-informatika/blob/main/Untitled2.ipynb\" target=\"_parent\"><img src=\"https://colab.research.google.com/assets/colab-badge.svg\" alt=\"Open In Colab\"/></a>"
      ]
    },
    {
      "cell_type": "code",
      "source": [
        "pip install cloudscraper"
      ],
      "metadata": {
        "id": "Qz9RokSEwqac"
      },
      "execution_count": null,
      "outputs": []
    },
    {
      "cell_type": "code",
      "source": [
        "import cloudscraper\n",
        "from bs4 import BeautifulSoup\n",
        "\n",
        "scraper = cloudscraper.create_scraper()\n",
        "response = scraper.get(\"https://www.loker.id/cari-lowongan-kerja\")\n",
        "soup = BeautifulSoup(response.text, \"html.parser\")\n",
        "\n",
        "print(soup.prettify())"
      ],
      "metadata": {
        "id": "ygQgRQdNwvk4"
      },
      "execution_count": null,
      "outputs": []
    },
    {
      "cell_type": "code",
      "source": [
        "import requests\n",
        "import cloudscraper\n",
        "from bs4 import BeautifulSoup\n",
        "\n",
        "scraper = cloudscraper.create_scraper()\n",
        "link = scraper.get(\"https://www.loker.id/cari-lowongan-kerja\")\n",
        "hasil = BeautifulSoup(link.text, \"html.parser\")\n",
        "\n",
        "judul = []\n",
        "\n",
        "articles = hasil.find_all('article', class_='card')\n",
        "\n",
        "for artikel in articles:\n",
        "  head = artikel.find('h3')\n",
        "  judul.append(head.get_text(strip=True))\n",
        "\n",
        "print(\"Judul Kerjaan:\", judul)"
      ],
      "metadata": {
        "id": "oattLmugSZLC"
      },
      "execution_count": null,
      "outputs": []
    },
    {
      "cell_type": "code",
      "source": [
        "import requests\n",
        "import cloudscraper\n",
        "from bs4 import BeautifulSoup\n",
        "\n",
        "scraper = cloudscraper.create_scraper()\n",
        "link = scraper.get(\"https://www.loker.id/cari-lowongan-kerja\")\n",
        "hasil = BeautifulSoup(link.text, \"html.parser\")\n",
        "\n",
        "perusahaan = []\n",
        "\n",
        "articles = hasil.find_all('article', class_='card')\n",
        "\n",
        "for artikel in articles:\n",
        "  nama_perusahaan = artikel.find('span', class_='text-sm text-secondary-500')\n",
        "  perusahaan.append(nama_perusahaan.get_text(strip=True))\n",
        "\n",
        "print(\"Nama Perusahaan:\", perusahaan)"
      ],
      "metadata": {
        "id": "p7zAJR77X80-"
      },
      "execution_count": null,
      "outputs": []
    },
    {
      "cell_type": "code",
      "source": [],
      "metadata": {
        "id": "6v6tzCevZgCY"
      },
      "execution_count": null,
      "outputs": []
    }
  ]
}